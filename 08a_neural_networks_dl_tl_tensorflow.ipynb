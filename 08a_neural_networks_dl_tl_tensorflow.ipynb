{
 "cells": [
  {
   "cell_type": "markdown",
   "metadata": {},
   "source": [
    "## Neural Networks: Deep Learning, Transfer Learning and TensorFlow 2.0\n"
   ]
  },
  {
   "cell_type": "markdown",
   "metadata": {},
   "source": [
    "### 1. Deep Learning and Unstructured Data\n",
    "\n",
    "- **Neural networks**, also known as artificial neural networks (ANNs) or simulated neural networks (SNNs), are a subset of machine learning and are at the heart of deep learning algorithms. Their name and structure are inspired by the human brain, mimicking the way that biological neurons signal to one another.\n",
    "- **Deep learning** is a subset of machine learning, which is essentially a neural network with three or more layers. These neural networks attempt to simulate the behavior of the human brain—albeit far from matching its ability—allowing it to “learn” from large amounts of data. While a neural network with a single layer can still make approximate predictions, additional hidden layers can help to optimize and refine for accuracy. \n",
    "DL problem examples: \n",
    "    - Classification (image, text/e-mail-spam), \n",
    "    - Sequence to sequence (seq2seq, Siri, Google Assistant, GTranslate;audio to text),\n",
    "    - Object detection (similar to image-class., identify and locate an object in an image)\n",
    "    \n",
    "- **Transfer learning** is a technique in machine learning in which knowledge learned from a task is re-used in order to boost performance on a related task. For example, for image classification, knowledge gained while learning to recognize cars could be applied when trying to recognize trucks. \n",
    "- **Tensorflow**  is a free and open-source software library (deep learning, numerical computing) for machine learning and artificial intelligence. It can be used across a range of tasks but has a particular focus on training and inference of deep neural networks\n",
    "* build deep learning and neural network models to gain insights out of unstructured data (photos, audio waves, Natural Language Texts)\n",
    "    - Ability to write fast Deep Learning code in Python (and to run on a GPU) \n",
    "    - Able to access many pre-built DeepLearning models\n",
    "    - Whole stack: preprocess, model, deploy\n",
    "    - Originally designed and used in-house by Google (now open-source)\n",
    "- **GPU** a graphical processing unit, lot faster than a CPU at numerical computing"
   ]
  },
  {
   "cell_type": "markdown",
   "metadata": {},
   "source": [
    " * Choosing a model\n",
    "\n",
    " ![title](Pics/Choosing%20a%20model%20tensor.png)"
   ]
  },
  {
   "cell_type": "markdown",
   "metadata": {},
   "source": [
    "![title](Pics/tensorflow%20workflow.png)"
   ]
  },
  {
   "cell_type": "markdown",
   "metadata": {},
   "source": [
    "#### Content to be covered\n",
    "* An end-to-end multi-class classification workflow with TensorFlow\n",
    "* Preprocessing image data (getting it into Tensors)\n",
    "* Choosing a deep learning model\n",
    "* Fitting a model to the data (learning patterns)\n",
    "* Making predictions with a model (using patterns)\n",
    "* Evaluating model predictions\n",
    "* Saving and loading models\n",
    "* Using a trained model to make predictions on custom data"
   ]
  }
 ],
 "metadata": {
  "language_info": {
   "name": "python"
  }
 },
 "nbformat": 4,
 "nbformat_minor": 2
}
