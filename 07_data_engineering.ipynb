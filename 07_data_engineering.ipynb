{
 "cells": [
  {
   "cell_type": "markdown",
   "metadata": {},
   "source": [
    "## Data Engineering\n",
    "\n",
    "-It is the practice of designing and building systems for collecting, storing, and analyzing data at scale.Basically Data Engineering handles data makes it accessible (maintain, organize and store huge amounts of incoming data in databases) to Data Science disciplines/techniques (AI, Machine Learning, Deep Learning)"
   ]
  },
  {
   "cell_type": "markdown",
   "metadata": {},
   "source": [
    "### 1. What is Data\n",
    "\n",
    "* *Structured Data*: Usually comes from structural databases e.g. MySQL, PostgreSQL \n",
    "* *Semi-structured Data*:e.g XMS,CSV, JSON\n",
    "* *Unstructured Data*: e.g PDF, e-mails, any type of documents\n",
    "* *Binary Data*: MP3, MP4 (audio/video files), image files "
   ]
  },
  {
   "cell_type": "markdown",
   "metadata": {},
   "source": [
    "- **Data Mining**: also known as knowledge discovery in data (KDD), is the process of uncovering patterns and other valuable information from large data sets. Preprocessing and extracting some knowledge from the data\n",
    "\n",
    "- **Big Data**: extremely large and diverse collections of structured, unstructured, and semi-structured data that continues to grow exponentially over time. These datasets are so huge and complex in volume, velocity, and variety, that traditional data management systems cannot store, process, and analyze them. huge amount of data that conveniently used processed on cloud or multiple computers\n",
    "\n",
    "- **Data Pipeline**: is a method in which raw data is ingested from various data sources and then ported to data store, like a data lake or data warehouse, for analysis. Before data flows into a data repository, it usually undergoes some data processing. This is inclusive of data transformations, such as filtering, masking, and aggregations, which ensure appropriate data integration and standardization. \n",
    "A pipeline/method data engineer builds to extract and store in data bases useful form of data or information from huge amounts of data"
   ]
  },
  {
   "cell_type": "markdown",
   "metadata": {},
   "source": [
    "**Data lake**: A data lake is a centralized repository that allows you to store all your structured and unstructured data (stored in its natural/raw format, usually object blobs or files) at any scale. You can store your data as-is, without having to first structure the data, and run different types of analytics—from dashboards and visualizations to big data processing, real-time analytics, and machine learning to guide better decisions.\n",
    "\n",
    "**Data warehouse**: A data warehouse, is a system that aggregates data from different sources into a single, central, consistent data store to support data analysis, data mining, artificial intelligence (AI), and machine learning. A data warehouse system enables an organization to run powerful analytics on huge volumes (petabytes and petabytes) of historical data in ways that a standard database cannot."
   ]
  },
  {
   "cell_type": "markdown",
   "metadata": {},
   "source": [
    "**ETL Pipeline**: (Extract, Transform, Load)  is a three-phase process where data is extracted, transformed (cleaned, sanitized, scrubbed) and loaded into an output data container. The data can be collated from one or more sources and it can also be output to one or more destinations.\n",
    "\n",
    " Data Engineer's main tasks: \n",
    "    - Create ETL pipelines \n",
    "    - Build analysis tools ( to analyze the data and also make sure the system is running correctly)\n",
    "    - Maintain data warehouses and data lakes"
   ]
  },
  {
   "cell_type": "markdown",
   "metadata": {},
   "source": [
    "### 2. Types of Databases\n",
    "- **Relational Database**: allows you to use SQL to make transactions, PostgreSQL, MySQL (ACID: Atomicity, Consistency, Isolation, and Durability) https://www.yugabyte.com/acid/\n",
    "- **NoSQL**: distributed databases, multiple databases working together, MongoDB\n",
    "-**NewSQL**: combines advantages of both database types, has the distributed nature of NoSQLs and reliability of Relationals, VaultDB, CockroachDb\n",
    "- *Databases according to their best uses*: Some DB provides very efficient *Search* option (Elasticsearch or Solar), Some DB provides very efficient *Computation* option (Apache Spark)\n",
    "\n",
    "- **OLTP**: Online Transactional Processing, the main focus of OLTP system is to record the current Update, Insertion and Deletion while transaction. The OLTP queries are simpler and short and hence require less time in processing, and also requires less space.\n",
    "\n",
    "\n",
    "- **OLAP**: Onine Analytical Processing, OLAP database stores historical data that has been inputted by OLTP. It allows a user to view different summaries of multi-dimensional data. Using OLAP, you can extract information from a large database and analyze it for decision making.\n",
    "https://techdifferences.com/difference-between-oltp-and-olap.html\n",
    "\n"
   ]
  }
 ],
 "metadata": {
  "language_info": {
   "name": "python"
  }
 },
 "nbformat": 4,
 "nbformat_minor": 2
}
